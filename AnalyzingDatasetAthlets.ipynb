{
 "cells": [
  {
   "cell_type": "code",
   "execution_count": 1,
   "metadata": {},
   "outputs": [],
   "source": [
    "import pandas as pd\n",
    "import numpy as np\n",
    "import matplotlib.pyplot as plt"
   ]
  },
  {
   "cell_type": "code",
   "execution_count": 2,
   "metadata": {},
   "outputs": [
    {
     "data": {
      "text/html": [
       "<div>\n",
       "<style scoped>\n",
       "    .dataframe tbody tr th:only-of-type {\n",
       "        vertical-align: middle;\n",
       "    }\n",
       "\n",
       "    .dataframe tbody tr th {\n",
       "        vertical-align: top;\n",
       "    }\n",
       "\n",
       "    .dataframe thead th {\n",
       "        text-align: right;\n",
       "    }\n",
       "</style>\n",
       "<table border=\"1\" class=\"dataframe\">\n",
       "  <thead>\n",
       "    <tr style=\"text-align: right;\">\n",
       "      <th></th>\n",
       "      <th>ID</th>\n",
       "      <th>Name</th>\n",
       "      <th>Sex</th>\n",
       "      <th>Age</th>\n",
       "      <th>Height</th>\n",
       "      <th>Weight</th>\n",
       "      <th>Team</th>\n",
       "      <th>NOC</th>\n",
       "      <th>Games</th>\n",
       "      <th>Year</th>\n",
       "      <th>Season</th>\n",
       "      <th>City</th>\n",
       "      <th>Sport</th>\n",
       "      <th>Event</th>\n",
       "      <th>Medal</th>\n",
       "    </tr>\n",
       "  </thead>\n",
       "  <tbody>\n",
       "    <tr>\n",
       "      <th>0</th>\n",
       "      <td>1</td>\n",
       "      <td>A Dijiang</td>\n",
       "      <td>M</td>\n",
       "      <td>24.0</td>\n",
       "      <td>180.0</td>\n",
       "      <td>80.0</td>\n",
       "      <td>China</td>\n",
       "      <td>CHN</td>\n",
       "      <td>1992 Summer</td>\n",
       "      <td>1992</td>\n",
       "      <td>Summer</td>\n",
       "      <td>Barcelona</td>\n",
       "      <td>Basketball</td>\n",
       "      <td>Basketball Men's Basketball</td>\n",
       "      <td>NaN</td>\n",
       "    </tr>\n",
       "    <tr>\n",
       "      <th>1</th>\n",
       "      <td>2</td>\n",
       "      <td>A Lamusi</td>\n",
       "      <td>M</td>\n",
       "      <td>23.0</td>\n",
       "      <td>170.0</td>\n",
       "      <td>60.0</td>\n",
       "      <td>China</td>\n",
       "      <td>CHN</td>\n",
       "      <td>2012 Summer</td>\n",
       "      <td>2012</td>\n",
       "      <td>Summer</td>\n",
       "      <td>London</td>\n",
       "      <td>Judo</td>\n",
       "      <td>Judo Men's Extra-Lightweight</td>\n",
       "      <td>NaN</td>\n",
       "    </tr>\n",
       "    <tr>\n",
       "      <th>2</th>\n",
       "      <td>3</td>\n",
       "      <td>Gunnar Nielsen Aaby</td>\n",
       "      <td>M</td>\n",
       "      <td>24.0</td>\n",
       "      <td>NaN</td>\n",
       "      <td>NaN</td>\n",
       "      <td>Denmark</td>\n",
       "      <td>DEN</td>\n",
       "      <td>1920 Summer</td>\n",
       "      <td>1920</td>\n",
       "      <td>Summer</td>\n",
       "      <td>Antwerpen</td>\n",
       "      <td>Football</td>\n",
       "      <td>Football Men's Football</td>\n",
       "      <td>NaN</td>\n",
       "    </tr>\n",
       "    <tr>\n",
       "      <th>3</th>\n",
       "      <td>4</td>\n",
       "      <td>Edgar Lindenau Aabye</td>\n",
       "      <td>M</td>\n",
       "      <td>34.0</td>\n",
       "      <td>NaN</td>\n",
       "      <td>NaN</td>\n",
       "      <td>Denmark/Sweden</td>\n",
       "      <td>DEN</td>\n",
       "      <td>1900 Summer</td>\n",
       "      <td>1900</td>\n",
       "      <td>Summer</td>\n",
       "      <td>Paris</td>\n",
       "      <td>Tug-Of-War</td>\n",
       "      <td>Tug-Of-War Men's Tug-Of-War</td>\n",
       "      <td>Gold</td>\n",
       "    </tr>\n",
       "    <tr>\n",
       "      <th>4</th>\n",
       "      <td>5</td>\n",
       "      <td>Christine Jacoba Aaftink</td>\n",
       "      <td>F</td>\n",
       "      <td>21.0</td>\n",
       "      <td>185.0</td>\n",
       "      <td>82.0</td>\n",
       "      <td>Netherlands</td>\n",
       "      <td>NED</td>\n",
       "      <td>1988 Winter</td>\n",
       "      <td>1988</td>\n",
       "      <td>Winter</td>\n",
       "      <td>Calgary</td>\n",
       "      <td>Speed Skating</td>\n",
       "      <td>Speed Skating Women's 500 metres</td>\n",
       "      <td>NaN</td>\n",
       "    </tr>\n",
       "    <tr>\n",
       "      <th>...</th>\n",
       "      <td>...</td>\n",
       "      <td>...</td>\n",
       "      <td>...</td>\n",
       "      <td>...</td>\n",
       "      <td>...</td>\n",
       "      <td>...</td>\n",
       "      <td>...</td>\n",
       "      <td>...</td>\n",
       "      <td>...</td>\n",
       "      <td>...</td>\n",
       "      <td>...</td>\n",
       "      <td>...</td>\n",
       "      <td>...</td>\n",
       "      <td>...</td>\n",
       "      <td>...</td>\n",
       "    </tr>\n",
       "    <tr>\n",
       "      <th>271111</th>\n",
       "      <td>135569</td>\n",
       "      <td>Andrzej ya</td>\n",
       "      <td>M</td>\n",
       "      <td>29.0</td>\n",
       "      <td>179.0</td>\n",
       "      <td>89.0</td>\n",
       "      <td>Poland-1</td>\n",
       "      <td>POL</td>\n",
       "      <td>1976 Winter</td>\n",
       "      <td>1976</td>\n",
       "      <td>Winter</td>\n",
       "      <td>Innsbruck</td>\n",
       "      <td>Luge</td>\n",
       "      <td>Luge Mixed (Men)'s Doubles</td>\n",
       "      <td>NaN</td>\n",
       "    </tr>\n",
       "    <tr>\n",
       "      <th>271112</th>\n",
       "      <td>135570</td>\n",
       "      <td>Piotr ya</td>\n",
       "      <td>M</td>\n",
       "      <td>27.0</td>\n",
       "      <td>176.0</td>\n",
       "      <td>59.0</td>\n",
       "      <td>Poland</td>\n",
       "      <td>POL</td>\n",
       "      <td>2014 Winter</td>\n",
       "      <td>2014</td>\n",
       "      <td>Winter</td>\n",
       "      <td>Sochi</td>\n",
       "      <td>Ski Jumping</td>\n",
       "      <td>Ski Jumping Men's Large Hill, Individual</td>\n",
       "      <td>NaN</td>\n",
       "    </tr>\n",
       "    <tr>\n",
       "      <th>271113</th>\n",
       "      <td>135570</td>\n",
       "      <td>Piotr ya</td>\n",
       "      <td>M</td>\n",
       "      <td>27.0</td>\n",
       "      <td>176.0</td>\n",
       "      <td>59.0</td>\n",
       "      <td>Poland</td>\n",
       "      <td>POL</td>\n",
       "      <td>2014 Winter</td>\n",
       "      <td>2014</td>\n",
       "      <td>Winter</td>\n",
       "      <td>Sochi</td>\n",
       "      <td>Ski Jumping</td>\n",
       "      <td>Ski Jumping Men's Large Hill, Team</td>\n",
       "      <td>NaN</td>\n",
       "    </tr>\n",
       "    <tr>\n",
       "      <th>271114</th>\n",
       "      <td>135571</td>\n",
       "      <td>Tomasz Ireneusz ya</td>\n",
       "      <td>M</td>\n",
       "      <td>30.0</td>\n",
       "      <td>185.0</td>\n",
       "      <td>96.0</td>\n",
       "      <td>Poland</td>\n",
       "      <td>POL</td>\n",
       "      <td>1998 Winter</td>\n",
       "      <td>1998</td>\n",
       "      <td>Winter</td>\n",
       "      <td>Nagano</td>\n",
       "      <td>Bobsleigh</td>\n",
       "      <td>Bobsleigh Men's Four</td>\n",
       "      <td>NaN</td>\n",
       "    </tr>\n",
       "    <tr>\n",
       "      <th>271115</th>\n",
       "      <td>135571</td>\n",
       "      <td>Tomasz Ireneusz ya</td>\n",
       "      <td>M</td>\n",
       "      <td>34.0</td>\n",
       "      <td>185.0</td>\n",
       "      <td>96.0</td>\n",
       "      <td>Poland</td>\n",
       "      <td>POL</td>\n",
       "      <td>2002 Winter</td>\n",
       "      <td>2002</td>\n",
       "      <td>Winter</td>\n",
       "      <td>Salt Lake City</td>\n",
       "      <td>Bobsleigh</td>\n",
       "      <td>Bobsleigh Men's Four</td>\n",
       "      <td>NaN</td>\n",
       "    </tr>\n",
       "  </tbody>\n",
       "</table>\n",
       "<p>271116 rows × 15 columns</p>\n",
       "</div>"
      ],
      "text/plain": [
       "            ID                      Name Sex   Age  Height  Weight  \\\n",
       "0            1                 A Dijiang   M  24.0   180.0    80.0   \n",
       "1            2                  A Lamusi   M  23.0   170.0    60.0   \n",
       "2            3       Gunnar Nielsen Aaby   M  24.0     NaN     NaN   \n",
       "3            4      Edgar Lindenau Aabye   M  34.0     NaN     NaN   \n",
       "4            5  Christine Jacoba Aaftink   F  21.0   185.0    82.0   \n",
       "...        ...                       ...  ..   ...     ...     ...   \n",
       "271111  135569                Andrzej ya   M  29.0   179.0    89.0   \n",
       "271112  135570                  Piotr ya   M  27.0   176.0    59.0   \n",
       "271113  135570                  Piotr ya   M  27.0   176.0    59.0   \n",
       "271114  135571        Tomasz Ireneusz ya   M  30.0   185.0    96.0   \n",
       "271115  135571        Tomasz Ireneusz ya   M  34.0   185.0    96.0   \n",
       "\n",
       "                  Team  NOC        Games  Year  Season            City  \\\n",
       "0                China  CHN  1992 Summer  1992  Summer       Barcelona   \n",
       "1                China  CHN  2012 Summer  2012  Summer          London   \n",
       "2              Denmark  DEN  1920 Summer  1920  Summer       Antwerpen   \n",
       "3       Denmark/Sweden  DEN  1900 Summer  1900  Summer           Paris   \n",
       "4          Netherlands  NED  1988 Winter  1988  Winter         Calgary   \n",
       "...                ...  ...          ...   ...     ...             ...   \n",
       "271111        Poland-1  POL  1976 Winter  1976  Winter       Innsbruck   \n",
       "271112          Poland  POL  2014 Winter  2014  Winter           Sochi   \n",
       "271113          Poland  POL  2014 Winter  2014  Winter           Sochi   \n",
       "271114          Poland  POL  1998 Winter  1998  Winter          Nagano   \n",
       "271115          Poland  POL  2002 Winter  2002  Winter  Salt Lake City   \n",
       "\n",
       "                Sport                                     Event Medal  \n",
       "0          Basketball               Basketball Men's Basketball   NaN  \n",
       "1                Judo              Judo Men's Extra-Lightweight   NaN  \n",
       "2            Football                   Football Men's Football   NaN  \n",
       "3          Tug-Of-War               Tug-Of-War Men's Tug-Of-War  Gold  \n",
       "4       Speed Skating          Speed Skating Women's 500 metres   NaN  \n",
       "...               ...                                       ...   ...  \n",
       "271111           Luge                Luge Mixed (Men)'s Doubles   NaN  \n",
       "271112    Ski Jumping  Ski Jumping Men's Large Hill, Individual   NaN  \n",
       "271113    Ski Jumping        Ski Jumping Men's Large Hill, Team   NaN  \n",
       "271114      Bobsleigh                      Bobsleigh Men's Four   NaN  \n",
       "271115      Bobsleigh                      Bobsleigh Men's Four   NaN  \n",
       "\n",
       "[271116 rows x 15 columns]"
      ]
     },
     "execution_count": 2,
     "metadata": {},
     "output_type": "execute_result"
    }
   ],
   "source": [
    "df = pd.read_csv(r\"D:\\athlete_events.csv\")\n",
    "pd.set_option('display.max_columns', 100)\n",
    "pd.set_option('display.max_rows', 100)\n",
    "df"
   ]
  },
  {
   "cell_type": "markdown",
   "metadata": {},
   "source": [
    "How old were the youngest men and women who participated in the 1992 Olympic Games?"
   ]
  },
  {
   "cell_type": "code",
   "execution_count": 3,
   "metadata": {},
   "outputs": [
    {
     "name": "stdout",
     "output_type": "stream",
     "text": [
      "The min age of female was 12.0 min 1992 year. The min age of male was 11.0 in 1992 year.\n"
     ]
    }
   ],
   "source": [
    "minF = df.loc[(df['Year'] == 1992) & (df['Sex'] == 'F')]['Age'].min()\n",
    "minM = df.loc[(df['Year'] == 1992) & (df['Sex'] == 'M')]['Age'].min()\n",
    "# print(\"The min age of female was\", minF, \"in 1992 year. The min age of male was\", minM, \"in 1992 year. \")\n",
    "print(\"The min age of female was {0} min 1992 year. The min age of male was {1} in 1992 year.\".format(minF, minM))"
   ]
  },
  {
   "cell_type": "markdown",
   "metadata": {},
   "source": [
    "What is the percentage of male basketball players among all male competitors in the 2012 Olympic Games? Round the answer to the first decimal place. Hint: here and if necessary, take into account athletes who participated in different competitions only once."
   ]
  },
  {
   "cell_type": "code",
   "execution_count": 4,
   "metadata": {},
   "outputs": [
    {
     "name": "stdout",
     "output_type": "stream",
     "text": [
      "2.5 %\n"
     ]
    }
   ],
   "source": [
    "basket2012 =df.loc[(df['Sport'] == 'Basketball') &\n",
    "                      (df['Sex'] == 'M') & \n",
    "                      (df['Year'] == 2012)]['ID'].drop_duplicates().shape[0]\n",
    "all2012 = df.loc[(df['Sex'] == 'M') & (df['Year'] == 2012)]['ID'].drop_duplicates().shape[0]\n",
    "print(np.round(basket2012/all2012*100, 1), \"%\")\n",
    "               "
   ]
  },
  {
   "cell_type": "markdown",
   "metadata": {},
   "source": [
    "What is the average height of female tennis players who participated in the 2000 Olympic Games? Round the answer to the first decimal place."
   ]
  },
  {
   "cell_type": "code",
   "execution_count": 5,
   "metadata": {},
   "outputs": [
    {
     "name": "stdout",
     "output_type": "stream",
     "text": [
      "171.8  cm\n"
     ]
    }
   ],
   "source": [
    "tennis2000 = df.loc[(df['Sport'] == 'Tennis') &\n",
    "                    (df['Sex'] == 'F') &\n",
    "                    (df['Year'] == 2000)][['ID', 'Height']].drop_duplicates()['Height'].mean()\n",
    "print(np.round(tennis2000, 1), \" cm\")"
   ]
  },
  {
   "cell_type": "markdown",
   "metadata": {},
   "source": [
    "Find the athlete who participated in the 2006 Olympic Games and who had the heaviest weight among the participants of that Olympics. What sport did he play?"
   ]
  },
  {
   "cell_type": "code",
   "execution_count": 6,
   "metadata": {},
   "outputs": [
    {
     "data": {
      "text/html": [
       "<div>\n",
       "<style scoped>\n",
       "    .dataframe tbody tr th:only-of-type {\n",
       "        vertical-align: middle;\n",
       "    }\n",
       "\n",
       "    .dataframe tbody tr th {\n",
       "        vertical-align: top;\n",
       "    }\n",
       "\n",
       "    .dataframe thead th {\n",
       "        text-align: right;\n",
       "    }\n",
       "</style>\n",
       "<table border=\"1\" class=\"dataframe\">\n",
       "  <thead>\n",
       "    <tr style=\"text-align: right;\">\n",
       "      <th></th>\n",
       "      <th>ID</th>\n",
       "      <th>Name</th>\n",
       "      <th>Sex</th>\n",
       "      <th>Age</th>\n",
       "      <th>Height</th>\n",
       "      <th>Weight</th>\n",
       "      <th>Team</th>\n",
       "      <th>NOC</th>\n",
       "      <th>Games</th>\n",
       "      <th>Year</th>\n",
       "      <th>Season</th>\n",
       "      <th>City</th>\n",
       "      <th>Sport</th>\n",
       "      <th>Event</th>\n",
       "      <th>Medal</th>\n",
       "    </tr>\n",
       "  </thead>\n",
       "  <tbody>\n",
       "    <tr>\n",
       "      <td>8102</td>\n",
       "      <td>4476</td>\n",
       "      <td>Patrick R. Antaki</td>\n",
       "      <td>M</td>\n",
       "      <td>41.0</td>\n",
       "      <td>185.0</td>\n",
       "      <td>127.0</td>\n",
       "      <td>Lebanon</td>\n",
       "      <td>LIB</td>\n",
       "      <td>2006 Winter</td>\n",
       "      <td>2006</td>\n",
       "      <td>Winter</td>\n",
       "      <td>Torino</td>\n",
       "      <td>Skeleton</td>\n",
       "      <td>Skeleton Men's Skeleton</td>\n",
       "      <td>NaN</td>\n",
       "    </tr>\n",
       "  </tbody>\n",
       "</table>\n",
       "</div>"
      ],
      "text/plain": [
       "        ID               Name Sex   Age  Height  Weight     Team  NOC  \\\n",
       "8102  4476  Patrick R. Antaki   M  41.0   185.0   127.0  Lebanon  LIB   \n",
       "\n",
       "            Games  Year  Season    City     Sport                    Event  \\\n",
       "8102  2006 Winter  2006  Winter  Torino  Skeleton  Skeleton Men's Skeleton   \n",
       "\n",
       "     Medal  \n",
       "8102   NaN  "
      ]
     },
     "metadata": {},
     "output_type": "display_data"
    },
    {
     "name": "stdout",
     "output_type": "stream",
     "text": [
      "8102    The sport is Skeleton\n",
      "Name: Sport, dtype: object\n"
     ]
    }
   ],
   "source": [
    "max_weight = df.loc[(df['Year']==2006)]['Weight'].max()\n",
    "display(df.loc[(df['Sex']=='M')&(df['Year']==2006)&(df['Weight']==max_weight)])\n",
    "print(\"The sport is \" + df.loc[(df['Sex']=='M')&(df['Year']==2006)&(df['Weight']==max_weight)]['Sport'])"
   ]
  },
  {
   "cell_type": "markdown",
   "metadata": {},
   "source": [
    "How many gold medals in tennis did athletes from the Swiss team win at the 2008 Olympic Games? Count each medal from each athlete."
   ]
  },
  {
   "cell_type": "code",
   "execution_count": 5,
   "metadata": {},
   "outputs": [
    {
     "name": "stdout",
     "output_type": "stream",
     "text": [
      "Has been won 2 gold medals\n"
     ]
    }
   ],
   "source": [
    "amount = df.loc[(df['Sport'] == 'Tennis') & \n",
    "                (df['Team'].str.contains(\"Switzerland\")) & \n",
    "                (df['Year'] == 2008) & \n",
    "                (df['Medal'] == 'Gold')].shape[0]\n",
    "print(\"Has been won \" + str(amount) + \" gold medals\")"
   ]
  },
  {
   "cell_type": "markdown",
   "metadata": {},
   "source": [
    "Is it true that Spain won fewer medals than Italy in the 2016 Olympics? Display the number of medals won by these countries. Ignore NaNs in the Medal column."
   ]
  },
  {
   "cell_type": "code",
   "execution_count": 8,
   "metadata": {},
   "outputs": [
    {
     "name": "stdout",
     "output_type": "stream",
     "text": [
      "True. Spain won fewer medals than Italy in 2016\n",
      "Spain won 17 medals, and Italy won 28 medals.\n"
     ]
    }
   ],
   "source": [
    "spain_medal = df.loc[(df['Year']==2016)&(df['Team'].str.contains('Spain'))][['Event', 'Medal']].drop_duplicates()['Medal'].value_counts().sum()\n",
    "italy_medal = df.loc[(df['Year']==2016)&(df['Team'].str.contains('Italy'))][['Event', 'Medal']].drop_duplicates()['Medal'].value_counts().sum()\n",
    "if spain_medal < italy_medal: \n",
    "   print(\"True. Spain won fewer medals than Italy in 2016\")\n",
    "else:\n",
    "   print(\"Lie. Spain won fewer medals than Italy in 2016\")\n",
    "\n",
    "print(\"Spain won \" + str(spain_medal) + \" medals, and Italy won \" + str(italy_medal) + \" medals.\")"
   ]
  },
  {
   "cell_type": "markdown",
   "metadata": {},
   "source": [
    "Which of the listed age groups had the most participants at the 2008 Olympic Games: [15; 25) [25; 35) [35; 45) [45; 55]?"
   ]
  },
  {
   "cell_type": "code",
   "execution_count": 9,
   "metadata": {},
   "outputs": [
    {
     "name": "stdout",
     "output_type": "stream",
     "text": [
      "At the 2008 Olympic Games, the maximum number of participants was in the age category [25; 35)\n"
     ]
    }
   ],
   "source": [
    "dict = {'[15; 25)': df.loc[(df['Age']>=15) & (df['Age']<25) &(df['Year'] == 2008)]['ID'].drop_duplicates().shape[0],\n",
    "'[25; 35)': df.loc[(df['Age']>=25) & (df['Age']<35) &(df['Year'] == 2008)]['ID'].drop_duplicates().shape[0],\n",
    "'[35; 45)': df.loc[(df['Age']>=35) & (df['Age']<45) &(df['Year'] == 2008)]['ID'].drop_duplicates().shape[0],\n",
    "'[45; 55]': df.loc[(df['Age']>=45) & (df['Age']<=55) &(df['Year'] == 2008)]['ID'].drop_duplicates().shape[0]}\n",
    "print(\"At the 2008 Olympic Games, the maximum number of participants was in the age category \" + max(dict, key=dict.get))"
   ]
  },
  {
   "cell_type": "markdown",
   "metadata": {},
   "source": [
    "Is it true that the Summer Olympics were held in Atlanta? Is it true that the Winter Olympics were held in Squaw Valley?"
   ]
  },
  {
   "cell_type": "code",
   "execution_count": 10,
   "metadata": {},
   "outputs": [
    {
     "name": "stdout",
     "output_type": "stream",
     "text": [
      "True. Atlanta hosted the Summer Olympics\n",
      "True. Squaw Valley hosted the Winter Olympics\n"
     ]
    }
   ],
   "source": [
    "atlanta  = df.loc[(df['City'] == 'Atlanta') & (df['Season'] == 'Summer')].shape[0]\n",
    "if  atlanta != 0:\n",
    "    print(\"True. Atlanta hosted the Summer Olympics\")\n",
    "else:\n",
    "     print(\"False. Atlanta didn't host the Summer Olympics.\")\n",
    "squawValley = df.loc[(df['City'] == 'Squaw Valley') & (df['Season'] == 'Winter')].shape[0]\n",
    "if  squawValley != 0:\n",
    "    print(\"True. Squaw Valley hosted the Winter Olympics\")\n",
    "else:\n",
    "     print(\"Lie. Squaw Valley never hosted the Winter Olympics\")"
   ]
  },
  {
   "cell_type": "markdown",
   "metadata": {},
   "source": [
    "What is the absolute difference between the number of unique sports in the 1986 Olympics and the 2002 Olympics?"
   ]
  },
  {
   "cell_type": "code",
   "execution_count": 11,
   "metadata": {},
   "outputs": [
    {
     "data": {
      "text/plain": [
       "15"
      ]
     },
     "execution_count": 11,
     "metadata": {},
     "output_type": "execute_result"
    }
   ],
   "source": [
    "in1986 = df.loc[(df['Year']==1986)]['Sport'].drop_duplicates().shape[0]\n",
    "in2002 = df.loc[(df['Year']==2002)]['Sport'].drop_duplicates().shape[0]\n",
    "abs(in1986-in2002)"
   ]
  },
  {
   "cell_type": "markdown",
   "metadata": {},
   "source": [
    "How did the number of athletes change depending on the year of the Olympics (separately for summer and winter games)? Plot a line graph (the curves corresponding to the summer and winter games should be on the same graph, but in different colors and styles)."
   ]
  },
  {
   "cell_type": "code",
   "execution_count": 11,
   "metadata": {},
   "outputs": [
    {
     "name": "stdout",
     "output_type": "stream",
     "text": [
      "1896      176\n",
      "1900     1224\n",
      "1904      650\n",
      "1906      841\n",
      "1908     2024\n",
      "1912     2409\n",
      "1920     2676\n",
      "1924     3256\n",
      "1928     3247\n",
      "1932     1922\n",
      "1936     4484\n",
      "1948     4402\n",
      "1952     4932\n",
      "1956     3347\n",
      "1960     5352\n",
      "1964     5137\n",
      "1968     5558\n",
      "1972     7114\n",
      "1976     6073\n",
      "1980     5259\n",
      "1984     6798\n",
      "1988     8454\n",
      "1992     9386\n",
      "1996    10339\n",
      "2000    10647\n",
      "2004    10557\n",
      "2008    10899\n",
      "2012    10517\n",
      "2016    11179\n",
      "Name: Year, dtype: int64\n"
     ]
    },
    {
     "data": {
      "image/png": "[encoded data removed]",
      "text/plain": [
       "<Figure size 432x288 with 1 Axes>"
      ]
     },
     "metadata": {
      "needs_background": "light"
     },
     "output_type": "display_data"
    }
   ],
   "source": [
    "dataSummer = df.loc[df['Season'] == 'Summer'][['ID', 'Year']].drop_duplicates()['Year'].value_counts().sort_index()\n",
    "dataWinter = df.loc[df['Season'] == 'Winter'][['ID', 'Year']].drop_duplicates()['Year'].value_counts().sort_index()\n",
    "print(dataSummer)\n",
    "years = df['Year'].drop_duplicates()\n",
    "plt.plot(dataSummer, '-o' , label = 'Summer', color = \"c\") \n",
    "plt.plot(dataWinter, '-*', label = 'Winter', color = \"m\")\n",
    "plt.xlabel('Year')\n",
    "plt.ylabel('Number of athletes')\n",
    "plt.title('Dependence of the number of athletes \\n on the year of the Olympic Games') \n",
    "plt.grid(True) \n",
    "plt.gca().xaxis.set_ticks(years)\n",
    "plt.xticks(rotation=90, fontsize = 6) \n",
    "plt.legend()\n",
    "plt.show()  "
   ]
  },
  {
   "cell_type": "markdown",
   "metadata": {},
   "source": [
    "Similarly, look at how the number of countries participating in the games and sports changed depending on the year of the Olympics (separately for the summer and winter games)."
   ]
  },
  {
   "cell_type": "code",
   "execution_count": 12,
   "metadata": {},
   "outputs": [
    {
     "data": {
      "image/png": "[encoded data removed]",
      "text/plain": [
       "<Figure size 432x288 with 1 Axes>"
      ]
     },
     "metadata": {
      "needs_background": "light"
     },
     "output_type": "display_data"
    }
   ],
   "source": [
    "dataSummer = df.loc[df['Season'] == 'Summer'][['NOC', 'Year']].drop_duplicates()['Year'].value_counts().sort_index()\n",
    "dataWinter = df.loc[df['Season'] == 'Winter'][['NOC', 'Year']].drop_duplicates()['Year'].value_counts().sort_index()\n",
    "plt.plot(dataSummer, '-d' , label = 'Summer', color = \"y\") \n",
    "plt.plot(dataWinter, '->', label = 'Winter', color = \"b\")\n",
    "plt.xlabel('Year')\n",
    "plt.ylabel('Number of athelts')\n",
    "plt.title('Dependence of the number of countries on the year of the Olympic Games') \n",
    "plt.grid(True) \n",
    "plt.legend()\n",
    "plt.show() "
   ]
  },
  {
   "cell_type": "code",
   "execution_count": 13,
   "metadata": {},
   "outputs": [
    {
     "data": {
      "image/png": "[encoded data removed]",
      "text/plain": [
       "<Figure size 432x288 with 1 Axes>"
      ]
     },
     "metadata": {
      "needs_background": "light"
     },
     "output_type": "display_data"
    }
   ],
   "source": [
    "dataSummer = df.loc[df['Season'] == 'Summer'][['Sport', 'Year']].drop_duplicates()['Year'].value_counts().sort_index()\n",
    "dataWinter = df.loc[df['Season'] == 'Winter'][['Sport', 'Year']].drop_duplicates()['Year'].value_counts().sort_index()\n",
    "plt.plot(dataSummer, '-D' , label = 'Summer', color = \"g\") \n",
    "plt.plot(dataWinter, '-x', label = 'Winter', color = \"r\")\n",
    "plt.xlabel('Year')\n",
    "plt.ylabel('Number of sports')\n",
    "plt.title('The dependence of the number of sports on the year of the Olympic Games') \n",
    "plt.grid(True) \n",
    "plt.legend()\n",
    "plt.show() "
   ]
  },
  {
   "cell_type": "markdown",
   "metadata": {},
   "source": [
    "In which sports did Ukraine win medals at the 2012 Olympic Games? Construct a bar graph that ranks the sports in descending order of the number of medals won."
   ]
  },
  {
   "cell_type": "code",
   "execution_count": 14,
   "metadata": {},
   "outputs": [
    {
     "data": {
      "image/png": "[encoded data removed]",
      "text/plain": [
       "<Figure size 432x288 with 1 Axes>"
      ]
     },
     "metadata": {
      "needs_background": "light"
     },
     "output_type": "display_data"
    }
   ],
   "source": [
    "ukraineMedal = df.loc[(df['Year']==2012)&(df['Team'].str.contains('Ukraine'))][['Sport', 'Medal', 'Event']].drop_duplicates()[['Sport', 'Medal']].dropna()['Sport'].value_counts()\n",
    "plt.bar(ukraineMedal.index, ukraineMedal.values, width = 0.6, color = 'pink')\n",
    "plt.xticks(rotation=90) \n",
    "plt.xlabel('Kind of sport')\n",
    "plt.ylabel('Number of medals')\n",
    "plt.title('Number of medals won by Ukraine at the \\n2012 Olympic Games, depending on the sport') \n",
    "plt.show()"
   ]
  },
  {
   "cell_type": "markdown",
   "metadata": {},
   "source": [
    "How many gold, silver, and bronze medals did Ukraine win in each sport at the 2012 Olympics? Use the pivot_table method."
   ]
  },
  {
   "cell_type": "code",
   "execution_count": 16,
   "metadata": {},
   "outputs": [
    {
     "data": {
      "text/html": [
       "<div>\n",
       "<style scoped>\n",
       "    .dataframe tbody tr th:only-of-type {\n",
       "        vertical-align: middle;\n",
       "    }\n",
       "\n",
       "    .dataframe tbody tr th {\n",
       "        vertical-align: top;\n",
       "    }\n",
       "\n",
       "    .dataframe thead tr th {\n",
       "        text-align: left;\n",
       "    }\n",
       "\n",
       "    .dataframe thead tr:last-of-type th {\n",
       "        text-align: right;\n",
       "    }\n",
       "</style>\n",
       "<table border=\"1\" class=\"dataframe\">\n",
       "  <thead>\n",
       "    <tr>\n",
       "      <th></th>\n",
       "      <th colspan=\"3\" halign=\"left\">Medal</th>\n",
       "    </tr>\n",
       "    <tr>\n",
       "      <th>Medal</th>\n",
       "      <th>Bronze</th>\n",
       "      <th>Gold</th>\n",
       "      <th>Silver</th>\n",
       "    </tr>\n",
       "    <tr>\n",
       "      <th>Sport</th>\n",
       "      <th></th>\n",
       "      <th></th>\n",
       "      <th></th>\n",
       "    </tr>\n",
       "  </thead>\n",
       "  <tbody>\n",
       "    <tr>\n",
       "      <td>Athletics</td>\n",
       "      <td>2</td>\n",
       "      <td>0</td>\n",
       "      <td>1</td>\n",
       "    </tr>\n",
       "    <tr>\n",
       "      <td>Boxing</td>\n",
       "      <td>2</td>\n",
       "      <td>2</td>\n",
       "      <td>1</td>\n",
       "    </tr>\n",
       "    <tr>\n",
       "      <td>Canoeing</td>\n",
       "      <td>0</td>\n",
       "      <td>1</td>\n",
       "      <td>2</td>\n",
       "    </tr>\n",
       "    <tr>\n",
       "      <td>Fencing</td>\n",
       "      <td>1</td>\n",
       "      <td>1</td>\n",
       "      <td>0</td>\n",
       "    </tr>\n",
       "    <tr>\n",
       "      <td>Gymnastics</td>\n",
       "      <td>1</td>\n",
       "      <td>0</td>\n",
       "      <td>0</td>\n",
       "    </tr>\n",
       "    <tr>\n",
       "      <td>Rowing</td>\n",
       "      <td>0</td>\n",
       "      <td>1</td>\n",
       "      <td>0</td>\n",
       "    </tr>\n",
       "    <tr>\n",
       "      <td>Shooting</td>\n",
       "      <td>2</td>\n",
       "      <td>0</td>\n",
       "      <td>0</td>\n",
       "    </tr>\n",
       "    <tr>\n",
       "      <td>Weightlifting</td>\n",
       "      <td>1</td>\n",
       "      <td>1</td>\n",
       "      <td>0</td>\n",
       "    </tr>\n",
       "    <tr>\n",
       "      <td>Wrestling</td>\n",
       "      <td>0</td>\n",
       "      <td>0</td>\n",
       "      <td>1</td>\n",
       "    </tr>\n",
       "  </tbody>\n",
       "</table>\n",
       "</div>"
      ],
      "text/plain": [
       "               Medal            \n",
       "Medal         Bronze Gold Silver\n",
       "Sport                           \n",
       "Athletics          2    0      1\n",
       "Boxing             2    2      1\n",
       "Canoeing           0    1      2\n",
       "Fencing            1    1      0\n",
       "Gymnastics         1    0      0\n",
       "Rowing             0    1      0\n",
       "Shooting           2    0      0\n",
       "Weightlifting      1    1      0\n",
       "Wrestling          0    0      1"
      ]
     },
     "execution_count": 16,
     "metadata": {},
     "output_type": "execute_result"
    }
   ],
   "source": [
    "ukraineMedal = df.loc[(df['Year']==2012)&(df['Team'].str.contains('Ukraine'))][['Sport', 'Medal', 'Event']].drop_duplicates()[['Sport', 'Medal']]\n",
    "medals = df.loc[(df['Year']==2012)&(df['Team'].str.contains('Ukraine'))].dropna()['Medal']\n",
    "ukraineMedal.pivot_table(index = ['Sport'], columns = medals, values = ['Medal'], aggfunc='count', fill_value=0)"
   ]
  },
  {
   "cell_type": "markdown",
   "metadata": {},
   "source": [
    "Which countries won the most medals at the 2016 Olympics? Sort the countries by the number of gold medals won, leave only the top 10 countries and plot the following view"
   ]
  },
  {
   "cell_type": "code",
   "execution_count": 15,
   "metadata": {},
   "outputs": [
    {
     "name": "stdout",
     "output_type": "stream",
     "text": [
      "[46 27 26 19 17 12 10  9  8  8]\n"
     ]
    },
    {
     "data": {
      "image/png": "[encoded data removed]",
      "text/plain": [
       "<Figure size 432x288 with 1 Axes>"
      ]
     },
     "metadata": {
      "needs_background": "light"
     },
     "output_type": "display_data"
    }
   ],
   "source": [
    "ukraineMedal = df.loc[(df['Year']==2016)][['NOC', 'Sport', 'Medal', 'Event']].drop_duplicates()[['NOC', 'Medal']]\n",
    "medals = ukraineMedal.dropna()['Medal']\n",
    "newUkraineMedal = ukraineMedal.pivot_table(index = ['NOC'], columns = medals, values = ['Medal'], aggfunc='count', fill_value=0).sort_values(by = ('Medal', 'Gold'), ascending = False).head(10)\n",
    "newUkraineMedal = newUkraineMedal.reindex(columns=[('Medal', 'Gold'), ('Medal', 'Silver'), ('Medal', 'Bronze')])\n",
    "print(newUkraineMedal.values[:,0])\n",
    "plt.barh(newUkraineMedal.index, newUkraineMedal.values[:,0], color = 'yellow')\n",
    "plt.barh(newUkraineMedal.index, newUkraineMedal.values[:,1], color = 'grey',  left = newUkraineMedal.values[:,0])\n",
    "plt.barh(newUkraineMedal.index, newUkraineMedal.values[:,2], color = 'brown', left = newUkraineMedal.values[:,1]+newUkraineMedal.values[:,0])\n",
    "plt.xticks(rotation=90) \n",
    "plt.xlabel('Number of medals')\n",
    "plt.ylabel('Country')\n",
    "#plt.gca().invert_yaxis()\n",
    "plt.title('Countries that won the most gold medals in 2016');\n",
    "# plt.show()"
   ]
  },
  {
   "cell_type": "markdown",
   "metadata": {},
   "source": [
    "What is the percentage of men and women among all athletes for all years separately for the summer and winter games?"
   ]
  },
  {
   "cell_type": "code",
   "execution_count": 16,
   "metadata": {},
   "outputs": [
    {
     "data": {
      "image/png": "[encoded data removed]",
      "text/plain": [
       "<Figure size 720x432 with 2 Axes>"
      ]
     },
     "metadata": {},
     "output_type": "display_data"
    }
   ],
   "source": [
    "dataSummer = df.loc[df['Season'] == 'Summer'][['Sex', 'Name']].drop_duplicates()['Sex'].value_counts().sort_index()\n",
    "dataWinter = df.loc[df['Season'] == 'Winter'][['Sex', 'Name']].drop_duplicates()['Sex'].value_counts().sort_index()\n",
    "plt.figure(figsize=(10,6))\n",
    "plt.subplot(1, 2, 1)\n",
    "plt.pie(dataSummer, labels = ['Female', 'Male'], autopct='%1.1f%%') \n",
    "plt.title('Summer games')\n",
    "plt.subplot(1, 2, 2)\n",
    "plt.pie(dataWinter, labels = ['Female', 'Male'], autopct='%1.1f%%') \n",
    "plt.title('Winter games')\n",
    "plt.show() "
   ]
  }
 ],
 "metadata": {
  "kernelspec": {
   "display_name": "Python 3 (ipykernel)",
   "language": "python",
   "name": "python3"
  },
  "language_info": {
   "codemirror_mode": {
    "name": "ipython",
    "version": 3
   },
   "file_extension": ".py",
   "mimetype": "text/x-python",
   "name": "python",
   "nbconvert_exporter": "python",
   "pygments_lexer": "ipython3",
   "version": "3.10.5"
  }
 },
 "nbformat": 4,
 "nbformat_minor": 2
}
